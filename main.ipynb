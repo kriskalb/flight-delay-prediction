{
  "nbformat": 4,
  "nbformat_minor": 0,
  "metadata": {
    "colab": {
      "provenance": [],
      "authorship_tag": "ABX9TyP0KOsEgKyTyeF9soRCHjWr",
      "include_colab_link": true
    },
    "kernelspec": {
      "name": "python3",
      "display_name": "Python 3"
    },
    "language_info": {
      "name": "python"
    }
  },
  "cells": [
    {
      "cell_type": "markdown",
      "metadata": {
        "id": "view-in-github",
        "colab_type": "text"
      },
      "source": [
        "<a href=\"https://colab.research.google.com/github/kriskalb/flight-delay-prediction/blob/main/main.ipynb\" target=\"_parent\"><img src=\"https://colab.research.google.com/assets/colab-badge.svg\" alt=\"Open In Colab\"/></a>"
      ]
    },
    {
      "cell_type": "code",
      "execution_count": 11,
      "metadata": {
        "id": "JCOGeBfohvMh"
      },
      "outputs": [],
      "source": [
        "import joblib\n",
        "import pandas as pd\n",
        "from sklearn.metrics import mean_absolute_error, accuracy_score, classification_report, mean_squared_error\n",
        "import pyarrow.parquet as pq\n",
        "from sklearn.preprocessing import StandardScaler\n",
        "from sklearn.model_selection import train_test_split"
      ]
    },
    {
      "cell_type": "code",
      "source": [
        "from google.colab import drive\n",
        "\n",
        "\n",
        "drive.mount('/content/drive')"
      ],
      "metadata": {
        "colab": {
          "base_uri": "https://localhost:8080/"
        },
        "id": "8KrVD-6Pumt9",
        "outputId": "27b3837f-ded3-4179-8881-b032e0cfd04c"
      },
      "execution_count": 5,
      "outputs": [
        {
          "output_type": "stream",
          "name": "stdout",
          "text": [
            "Mounted at /content/drive\n"
          ]
        }
      ]
    },
    {
      "cell_type": "markdown",
      "source": [
        "# Regression - ARRIVAL_DELAY prediction - xgboost"
      ],
      "metadata": {
        "id": "CsFt1Wv7rKqo"
      }
    },
    {
      "cell_type": "code",
      "source": [
        "parquet_file_path = '/content/drive/MyDrive/Kurs/final_project/inputs/df_selected.parquet'\n",
        "table = pq.read_table(parquet_file_path)\n",
        "df_selected = table.to_pandas()\n",
        "parquet_file_path = '/content/drive/MyDrive/Kurs/final_project/inputs/df_target.parquet'\n",
        "table = pq.read_table(parquet_file_path)\n",
        "df_target = table.to_pandas()"
      ],
      "metadata": {
        "id": "N9b4Ge4BnE6T"
      },
      "execution_count": 6,
      "outputs": []
    },
    {
      "cell_type": "code",
      "source": [
        "xgboost_model = joblib.load('/content/drive/MyDrive/Kurs/final_project/models/xgboost.pkl')"
      ],
      "metadata": {
        "id": "xEl8AACprH3f"
      },
      "execution_count": 8,
      "outputs": []
    },
    {
      "cell_type": "code",
      "source": [
        "X = df_selected\n",
        "y = df_target['ARRIVAL_DELAY']\n",
        "X_train, X_test, y_train, y_test = train_test_split(X, y, test_size=0.2, random_state=42)"
      ],
      "metadata": {
        "id": "RsBTc38nybvy"
      },
      "execution_count": 12,
      "outputs": []
    },
    {
      "cell_type": "code",
      "source": [
        "y_pred_xgboost = xgboost_model.predict(X_test)"
      ],
      "metadata": {
        "id": "PU7uISnwh9G1"
      },
      "execution_count": 14,
      "outputs": []
    },
    {
      "cell_type": "code",
      "source": [
        "mse_zgb = mean_squared_error(y_test, y_pred_xgboost)\n",
        "mae_xgb = mean_absolute_error(y_test, y_pred_xgboost)\n",
        "print(f\"Mean Squared Error: {mse_zgb}\")\n",
        "print(f\"Mean Absolute Error: {mae_xgb}\")"
      ],
      "metadata": {
        "colab": {
          "base_uri": "https://localhost:8080/"
        },
        "id": "kwxvklmWrkrw",
        "outputId": "821db03c-5715-4b8a-8b9f-a7227a7a575b"
      },
      "execution_count": 15,
      "outputs": [
        {
          "output_type": "stream",
          "name": "stdout",
          "text": [
            "Mean Squared Error: 154.3069469350176\n",
            "Mean Absolute Error: 8.683368195024757\n"
          ]
        }
      ]
    },
    {
      "cell_type": "markdown",
      "source": [
        "# Classification - ARRIVAL_DELAY (True/False) prediction - logistic regression"
      ],
      "metadata": {
        "id": "u-ObkjGArWBM"
      }
    },
    {
      "cell_type": "code",
      "source": [
        "parquet_file_path = '/content/drive/MyDrive/Kurs/final_project/inputs/df_selected_classification.parquet'\n",
        "table = pq.read_table(parquet_file_path)\n",
        "df_selected_classification = table.to_pandas()\n",
        "parquet_file_path = '/content/drive/MyDrive/Kurs/final_project/inputs/df_target_encoded.parquet'\n",
        "table = pq.read_table(parquet_file_path)\n",
        "df_target_encoded = table.to_pandas()"
      ],
      "metadata": {
        "id": "1S0YY83hm4w4"
      },
      "execution_count": 16,
      "outputs": []
    },
    {
      "cell_type": "code",
      "source": [
        "X = df_selected_classification\n",
        "y = df_target_encoded['ARRIVAL_DELAY_encoded']"
      ],
      "metadata": {
        "id": "v-qVEVUxv5xc"
      },
      "execution_count": 17,
      "outputs": []
    },
    {
      "cell_type": "code",
      "source": [
        "X_train_lr, X_test_lr, y_train_lr, y_test_lr = train_test_split(X, y, test_size=0.2, random_state=42)\n",
        "columns_to_standarize = ['SCHEDULED_TIME', 'DISTANCE', 'ORIG_LATITUDE', 'ORIG_LONGITUDE', 'DEST_LONGITUDE'\n",
        "                    ,'ORIGIN_AIRPORT_RANK',\n",
        "                    'DESTIN_AIRPORT_RANK',]\n",
        "scaler = StandardScaler()\n",
        "X_train_lr[columns_to_standarize] = scaler.fit_transform(X_train_lr[columns_to_standarize])\n",
        "X_test_lr[columns_to_standarize] = scaler.transform(X_test_lr[columns_to_standarize])"
      ],
      "metadata": {
        "id": "jZ2KcxU8v-B4"
      },
      "execution_count": 18,
      "outputs": []
    },
    {
      "cell_type": "code",
      "source": [
        "lr_model = joblib.load('/content/drive/MyDrive/Kurs/final_project/models/logistic.pkl')"
      ],
      "metadata": {
        "id": "Lc2kJPjcm7GE"
      },
      "execution_count": 19,
      "outputs": []
    },
    {
      "cell_type": "code",
      "source": [
        "y_pred_lr = lr_model.predict(X_test_lr)"
      ],
      "metadata": {
        "id": "HAokSAFilmNX"
      },
      "execution_count": 20,
      "outputs": []
    },
    {
      "cell_type": "code",
      "source": [
        "accuracy = accuracy_score(y_test_lr, y_pred_lr)\n",
        "print(f\"Accuracy- random forest: {accuracy}\")\n",
        "\n",
        "classification_rep = classification_report(y_test_lr, y_pred_lr)\n",
        "print(\"classification report:\")\n",
        "print(classification_rep)"
      ],
      "metadata": {
        "colab": {
          "base_uri": "https://localhost:8080/"
        },
        "id": "px0LQNa6rmCQ",
        "outputId": "47b5866c-135a-4de6-feef-4f8475eb83df"
      },
      "execution_count": 21,
      "outputs": [
        {
          "output_type": "stream",
          "name": "stdout",
          "text": [
            "Accuracy- random forest: 0.6399663297083823\n",
            "classification report:\n",
            "              precision    recall  f1-score   support\n",
            "\n",
            "           0       0.64      0.99      0.78    655853\n",
            "           1       0.75      0.05      0.09    388391\n",
            "\n",
            "    accuracy                           0.64   1044244\n",
            "   macro avg       0.69      0.52      0.43   1044244\n",
            "weighted avg       0.68      0.64      0.52   1044244\n",
            "\n"
          ]
        }
      ]
    },
    {
      "cell_type": "code",
      "source": [],
      "metadata": {
        "id": "s_AFGLrEzg8_"
      },
      "execution_count": null,
      "outputs": []
    }
  ]
}